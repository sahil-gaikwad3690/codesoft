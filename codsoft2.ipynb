{
  "nbformat": 4,
  "nbformat_minor": 0,
  "metadata": {
    "colab": {
      "provenance": [],
      "authorship_tag": "ABX9TyNUveyFmvCsIfkIuFoZfJOd",
      "include_colab_link": true
    },
    "kernelspec": {
      "name": "python3",
      "display_name": "Python 3"
    },
    "language_info": {
      "name": "python"
    }
  },
  "cells": [
    {
      "cell_type": "markdown",
      "metadata": {
        "id": "view-in-github",
        "colab_type": "text"
      },
      "source": [
        "<a href=\"https://colab.research.google.com/github/sahil-gaikwad3690/codesoft/blob/main/codsoft2.ipynb\" target=\"_parent\"><img src=\"https://colab.research.google.com/assets/colab-badge.svg\" alt=\"Open In Colab\"/></a>"
      ]
    },
    {
      "cell_type": "code",
      "execution_count": 1,
      "metadata": {
        "colab": {
          "base_uri": "https://localhost:8080/"
        },
        "id": "17AZraW5J0Td",
        "outputId": "008dcf94-b6c7-4ae7-e727-317242d46e02"
      },
      "outputs": [
        {
          "output_type": "stream",
          "name": "stdout",
          "text": [
            "Enter the desired password length: 7\n",
            "Generated Password: \"l|saIt\n"
          ]
        }
      ],
      "source": [
        "import random\n",
        "import string\n",
        "\n",
        "def generate_password(length):\n",
        "    # Combine all possible characters: letters, digits, and punctuation\n",
        "    characters = string.ascii_letters + string.digits + string.punctuation\n",
        "    # Randomly select characters from the combined pool\n",
        "    password = ''.join(random.choice(characters) for _ in range(length))\n",
        "    return password\n",
        "\n",
        "# Prompt user for password length\n",
        "try:\n",
        "    length = int(input(\"Enter the desired password length: \"))\n",
        "    if length <= 0:\n",
        "        print(\"Please enter a positive number.\")\n",
        "    else:\n",
        "        # Generate and display the password\n",
        "        password = generate_password(length)\n",
        "        print(f\"Generated Password: {password}\")\n",
        "except ValueError:\n",
        "    print(\"Invalid input. Please enter a number.\")"
      ]
    }
  ]
}