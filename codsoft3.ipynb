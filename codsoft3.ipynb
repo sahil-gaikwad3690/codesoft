{
  "nbformat": 4,
  "nbformat_minor": 0,
  "metadata": {
    "colab": {
      "provenance": [],
      "authorship_tag": "ABX9TyOp6HCNMRcHi2L2sfXYH6hA",
      "include_colab_link": true
    },
    "kernelspec": {
      "name": "python3",
      "display_name": "Python 3"
    },
    "language_info": {
      "name": "python"
    }
  },
  "cells": [
    {
      "cell_type": "markdown",
      "metadata": {
        "id": "view-in-github",
        "colab_type": "text"
      },
      "source": [
        "<a href=\"https://colab.research.google.com/github/sahil-gaikwad3690/codesoft/blob/main/codsoft3.ipynb\" target=\"_parent\"><img src=\"https://colab.research.google.com/assets/colab-badge.svg\" alt=\"Open In Colab\"/></a>"
      ]
    },
    {
      "cell_type": "code",
      "execution_count": 1,
      "metadata": {
        "colab": {
          "base_uri": "https://localhost:8080/"
        },
        "id": "EratSOeYKAAm",
        "outputId": "a7e7f744-25f0-4e96-a612-940192fc8225"
      },
      "outputs": [
        {
          "output_type": "stream",
          "name": "stdout",
          "text": [
            "Simple Calculator\n",
            "------------------\n",
            "Select operation:\n",
            "1. Addition (+)\n",
            "2. Subtraction (-)\n",
            "3. Multiplication (*)\n",
            "4. Division (/)\n",
            "\n",
            "Enter first number: 1\n",
            "Enter second number: 2\n",
            "Enter choice (+, -, *, /): +\n",
            "\n",
            "Result: 3.0\n"
          ]
        }
      ],
      "source": [
        "def add(x, y):\n",
        "    return x + y\n",
        "\n",
        "def subtract(x, y):\n",
        "    return x - y\n",
        "\n",
        "def multiply(x, y):\n",
        "    return x * y\n",
        "\n",
        "def divide(x, y):\n",
        "    if y == 0:\n",
        "        return \"Error: Cannot divide by zero!\"\n",
        "    return x / y\n",
        "\n",
        "print(\"Simple Calculator\")\n",
        "print(\"------------------\")\n",
        "print(\"Select operation:\")\n",
        "print(\"1. Addition (+)\")\n",
        "print(\"2. Subtraction (-)\")\n",
        "print(\"3. Multiplication (*)\")\n",
        "print(\"4. Division (/)\")\n",
        "\n",
        "try:\n",
        "    num1 = float(input(\"\\nEnter first number: \"))\n",
        "    num2 = float(input(\"Enter second number: \"))\n",
        "    choice = input(\"Enter choice (+, -, *, /): \")\n",
        "\n",
        "    if choice == '+':\n",
        "        result = add(num1, num2)\n",
        "    elif choice == '-':\n",
        "        result = subtract(num1, num2)\n",
        "    elif choice == '*':\n",
        "        result = multiply(num1, num2)\n",
        "    elif choice == '/':\n",
        "        result = divide(num1, num2)\n",
        "    else:\n",
        "        result = \"Invalid operation choice.\"\n",
        "\n",
        "    print(f\"\\nResult: {result}\")\n",
        "\n",
        "except ValueError:\n",
        "    print(\"Invalid input. Please enter numeric values.\")\n",
        "\n"
      ]
    }
  ]
}