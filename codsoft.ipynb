{
  "nbformat": 4,
  "nbformat_minor": 0,
  "metadata": {
    "colab": {
      "provenance": []
    },
    "kernelspec": {
      "name": "python3",
      "display_name": "Python 3"
    },
    "language_info": {
      "name": "python"
    }
  },
  "cells": [
    {
      "cell_type": "code",
      "execution_count": 1,
      "metadata": {
        "colab": {
          "base_uri": "https://localhost:8080/"
        },
        "id": "C20-deAuFfpp",
        "outputId": "d497c684-4b5a-469d-959f-cbe6671b5f2b"
      },
      "outputs": [
        {
          "output_type": "stream",
          "name": "stdout",
          "text": [
            "🎮 Welcome to Rock-Paper-Scissors Game! 🎮\n",
            "\n",
            "Choose one: Rock, Paper, or Scissors\n",
            "Your choice: rock\n",
            "\n",
            "🧑 You chose: Rock\n",
            "💻 Computer chose: Scissors\n",
            "✅ You win this round!\n",
            "\n",
            "🏆 Scores => You: 1 | Computer: 0\n",
            "\n",
            "Do you want to play another round? (yes/no): no\n",
            "\n",
            "🎉 Final Score 🎉\n",
            "You: 1 | Computer: 0\n",
            "Thanks for playing! Goodbye!\n"
          ]
        }
      ],
      "source": [
        "import random\n",
        "\n",
        "def get_user_choice():\n",
        "    while True:\n",
        "        print(\"\\nChoose one: Rock, Paper, or Scissors\")\n",
        "        user_input = input(\"Your choice: \").strip().lower()\n",
        "        if user_input in ['rock', 'paper', 'scissors']:\n",
        "            return user_input\n",
        "        else:\n",
        "            print(\"Invalid input! Please choose Rock, Paper, or Scissors.\")\n",
        "\n",
        "def get_computer_choice():\n",
        "    return random.choice(['rock', 'paper', 'scissors'])\n",
        "\n",
        "def determine_winner(user, computer):\n",
        "    if user == computer:\n",
        "        return \"tie\"\n",
        "    elif (user == \"rock\" and computer == \"scissors\") or \\\n",
        "         (user == \"scissors\" and computer == \"paper\") or \\\n",
        "         (user == \"paper\" and computer == \"rock\"):\n",
        "        return \"user\"\n",
        "    else:\n",
        "        return \"computer\"\n",
        "\n",
        "def play_game():\n",
        "    user_score = 0\n",
        "    computer_score = 0\n",
        "\n",
        "    print(\"🎮 Welcome to Rock-Paper-Scissors Game! 🎮\")\n",
        "\n",
        "    while True:\n",
        "        user_choice = get_user_choice()\n",
        "        computer_choice = get_computer_choice()\n",
        "\n",
        "        print(f\"\\n🧑 You chose: {user_choice.capitalize()}\")\n",
        "        print(f\"💻 Computer chose: {computer_choice.capitalize()}\")\n",
        "\n",
        "        result = determine_winner(user_choice, computer_choice)\n",
        "\n",
        "        if result == \"tie\":\n",
        "            print(\"🤝 It's a tie!\")\n",
        "        elif result == \"user\":\n",
        "            print(\"✅ You win this round!\")\n",
        "            user_score += 1\n",
        "        else:\n",
        "            print(\"❌ Computer wins this round!\")\n",
        "            computer_score += 1\n",
        "\n",
        "        print(f\"\\n🏆 Scores => You: {user_score} | Computer: {computer_score}\")\n",
        "\n",
        "        play_again = input(\"\\nDo you want to play another round? (yes/no): \").strip().lower()\n",
        "        if play_again != 'yes':\n",
        "            print(\"\\n🎉 Final Score 🎉\")\n",
        "            print(f\"You: {user_score} | Computer: {computer_score}\")\n",
        "            print(\"Thanks for playing! Goodbye!\")\n",
        "            break\n",
        "\n",
        "# Run the game\n",
        "play_game()"
      ]
    }
  ]
}